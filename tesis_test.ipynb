{
 "cells": [
  {
   "cell_type": "markdown",
   "metadata": {},
   "source": [
    "# Tesis Demo"
   ]
  },
  {
   "cell_type": "markdown",
   "metadata": {},
   "source": [
    "Se importan las librerias respectivas a **pyspark**."
   ]
  },
  {
   "cell_type": "code",
   "execution_count": null,
   "metadata": {
    "collapsed": false
   },
   "outputs": [],
   "source": [
    "from pyspark import SparkContext\n",
    "from pyspark.sql import SQLContext\n",
    "\n",
    "sc = SparkContext('local[*]')\n",
    "sqlContext = SQLContext(sc)"
   ]
  },
  {
   "cell_type": "markdown",
   "metadata": {
    "collapsed": false
   },
   "source": [
    "El siguiente bloque de codigo importa el modulo que integra las funciones desarrolladas:"
   ]
  },
  {
   "cell_type": "code",
   "execution_count": null,
   "metadata": {
    "collapsed": false
   },
   "outputs": [],
   "source": [
    "module_path = \"/home/jovyan/work/herramientas/tesis_lib.py\"\n",
    "sc.addPyFile(module_path)\n",
    "import tesis_lib as tools"
   ]
  },
  {
   "cell_type": "markdown",
   "metadata": {},
   "source": [
    "El siguiente bloque ejecuta una función del modulo que se acaba de cargar, verificando su correcto funcionamiento el resultado debe ser **0.9**."
   ]
  },
  {
   "cell_type": "code",
   "execution_count": null,
   "metadata": {
    "collapsed": false
   },
   "outputs": [],
   "source": [
    "tools.lexical_diversity(\"Hola Mundo\")"
   ]
  },
  {
   "cell_type": "markdown",
   "metadata": {
    "collapsed": true
   },
   "source": [
    "En el siguiente bloque debe indicar las carpetas respectivas a tweets **SPAM** y **NO SPAM** para el entrenamiento del clasificador de tweets:"
   ]
  },
  {
   "cell_type": "code",
   "execution_count": null,
   "metadata": {
    "collapsed": false
   },
   "outputs": [],
   "source": [
    "spamFile = \"/home/jovyan/work/herramientas/datos/spam/spam\"\n",
    "noSpamFile = \"/home/jovyan/work/herramientas/datos/spam/no_spam\"\n",
    "juez_spam = tools.entrenar_spam(sc, sqlContext, spamFile, noSpamFile)"
   ]
  },
  {
   "cell_type": "markdown",
   "metadata": {},
   "source": [
    "En el siguiente bloque se entrenará el clasificador de timelines, para lo cual se deben especificar las direcciones respectivas a las carpetas que contienen los timelines de **humanos, ciborgs y bots**:"
   ]
  },
  {
   "cell_type": "code",
   "execution_count": null,
   "metadata": {
    "collapsed": false
   },
   "outputs": [],
   "source": [
    "directorios = {'humanos': '/home/jovyan/work/herramientas/datos/categorizados/humano',\n",
    "               'ciborgs': '/home/jovyan/work/herramientas/datos/categorizados/ciborg',\n",
    "               'bots': '/home/jovyan/work/herramientas/datos/categorizados/bot'}\n",
    "juez_usuarios = tools.entrenar_juez(sc, sqlContext, juez_spam, directorios)"
   ]
  },
  {
   "cell_type": "markdown",
   "metadata": {
    "collapsed": true
   },
   "source": [
    "Obteniendo las caracteristicas de los usuarios:"
   ]
  },
  {
   "cell_type": "code",
   "execution_count": null,
   "metadata": {
    "collapsed": false,
    "scrolled": true
   },
   "outputs": [],
   "source": [
    "timelinesInput = '/home/jovyan/work/herramientas/datos/timelines'\n",
    "\n",
    "features = tools.timeline_features(sc, juez_spam, timelinesInput).cache()"
   ]
  },
  {
   "cell_type": "code",
   "execution_count": null,
   "metadata": {
    "collapsed": false
   },
   "outputs": [],
   "source": [
    "a = features.first()"
   ]
  },
  {
   "cell_type": "markdown",
   "metadata": {},
   "source": [
    "En el siguiente bloque de codigo se realizará la evaluación de un usuario para categorizarlo:\n",
    "* Humano = 0\n",
    "* Bot = 1\n",
    "* Ciborg = 2"
   ]
  },
  {
   "cell_type": "code",
   "execution_count": null,
   "metadata": {
    "collapsed": false
   },
   "outputs": [],
   "source": [
    "resultado, features = tools.evaluar(sc, juez_spam, juez_usuarios, timelinesInput)\n",
    "\n",
    "resultado.collect()"
   ]
  },
  {
   "cell_type": "markdown",
   "metadata": {},
   "source": [
    "Probando funcionamiento de **Plotly**"
   ]
  },
  {
   "cell_type": "code",
   "execution_count": null,
   "metadata": {
    "collapsed": false
   },
   "outputs": [],
   "source": [
    "from plotly.offline import download_plotlyjs, init_notebook_mode, plot, iplot\n",
    "from plotly.graph_objs import Bar, Scatter, Figure, Layout, Box, Marker, XAxis, YAxis\n",
    "import numpy as np\n",
    "import pandas as pd\n",
    "\n",
    "init_notebook_mode(connected=True)"
   ]
  },
  {
   "cell_type": "code",
   "execution_count": null,
   "metadata": {
    "collapsed": false
   },
   "outputs": [],
   "source": [
    "df = pd.read_csv('https://plot.ly/~etpinard/191.csv')\n",
    "\n",
    "iplot({\n",
    "    'data': [\n",
    "        Scatter(x=df[continent+'_Life Expentancy [in years]'],\n",
    "                y=df[continent+'_Gross Domestic Product per Capita [in USD of the year 2000]'],\n",
    "                text=df[continent+'_text'],\n",
    "                marker=Marker(size=df[continent+'_marker.size'], sizemode='area', sizeref=131868,),\n",
    "                mode='markers',\n",
    "                name=continent) for continent in ['Africa', 'Americas', 'Asia', 'Europe', 'Oceania']\n",
    "    ],\n",
    "    'layout': Layout(xaxis=XAxis(title='Life Expectancy'), yaxis=YAxis(title='GDP per Capita', type='log'))\n",
    "}, show_link=False)"
   ]
  },
  {
   "cell_type": "code",
   "execution_count": null,
   "metadata": {
    "collapsed": false,
    "scrolled": false
   },
   "outputs": [],
   "source": [
    "iplot([{\"x\": [1, 2, 3], \"y\": [3, 1, 6]}])"
   ]
  }
 ],
 "metadata": {
  "kernelspec": {
   "display_name": "Python 2",
   "language": "python",
   "name": "python2"
  },
  "language_info": {
   "codemirror_mode": {
    "name": "ipython",
    "version": 2
   },
   "file_extension": ".py",
   "mimetype": "text/x-python",
   "name": "python",
   "nbconvert_exporter": "python",
   "pygments_lexer": "ipython2",
   "version": "2.7.11"
  },
  "widgets": {
   "state": {},
   "version": "1.1.2"
  }
 },
 "nbformat": 4,
 "nbformat_minor": 0
}
