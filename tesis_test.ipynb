{
 "cells": [
  {
   "cell_type": "markdown",
   "metadata": {},
   "source": [
    "# Tesis Demo"
   ]
  },
  {
   "cell_type": "markdown",
   "metadata": {},
   "source": [
    "Se importan las librerias respectivas a **pyspark**."
   ]
  },
  {
   "cell_type": "code",
   "execution_count": 1,
   "metadata": {
    "collapsed": false
   },
   "outputs": [],
   "source": [
    "from pyspark import SparkContext\n",
    "from pyspark.sql import HiveContext\n",
    "\n",
    "sc = SparkContext('local[*]')\n",
    "sqlContext = HiveContext(sc)"
   ]
  },
  {
   "cell_type": "markdown",
   "metadata": {
    "collapsed": false
   },
   "source": [
    "El siguiente bloque de codigo importa el modulo que integra las funciones desarrolladas:"
   ]
  },
  {
   "cell_type": "code",
   "execution_count": 2,
   "metadata": {
    "collapsed": false
   },
   "outputs": [],
   "source": [
    "module_path = \"/home/jovyan/work/tools.py\"\n",
    "sc.addPyFile(module_path)\n",
    "import tools"
   ]
  },
  {
   "cell_type": "markdown",
   "metadata": {},
   "source": [
    "El siguiente bloque ejecuta una función del modulo que se acaba de cargar, verificando su correcto funcionamiento el resultado debe ser **0.9**."
   ]
  },
  {
   "cell_type": "code",
   "execution_count": 3,
   "metadata": {
    "collapsed": false
   },
   "outputs": [
    {
     "data": {
      "text/plain": [
       "0.9"
      ]
     },
     "execution_count": 3,
     "metadata": {},
     "output_type": "execute_result"
    }
   ],
   "source": [
    "tools.lexical_diversity(\"Hola Mundo\")"
   ]
  },
  {
   "cell_type": "markdown",
   "metadata": {
    "collapsed": true
   },
   "source": [
    "En el siguiente bloque debe indicar las carpetas respectivas a tweets **SPAM** y **NO SPAM** para el entrenamiento del clasificador de tweets:"
   ]
  },
  {
   "cell_type": "code",
   "execution_count": 4,
   "metadata": {
    "collapsed": false
   },
   "outputs": [],
   "source": [
    "spamFile = \"/home/jovyan/work/datos/spam\"\n",
    "noSpamFile = \"/home/jovyan/work/datos/no_spam\"\n",
    "juez_spam = tools.entrenar_spam(sc, sqlContext, spamFile, noSpamFile, 3, 2)"
   ]
  },
  {
   "cell_type": "markdown",
   "metadata": {},
   "source": [
    "En el siguiente bloque se entrenará el clasificador de timelines, para lo cual se deben especificar las direcciones respectivas a las carpetas que contienen los timelines de **humanos, ciborgs y bots**:"
   ]
  },
  {
   "cell_type": "code",
   "execution_count": 5,
   "metadata": {
    "collapsed": false
   },
   "outputs": [],
   "source": [
    "humanos = '/home/jovyan/work/datos/datos_cat/humano'\n",
    "ciborgs = '/home/jovyan/work/datos/datos_cat/ciborg'\n",
    "bots =  '/home/jovyan/work/datos/datos_cat/bot'\n",
    "juez_usuarios = tools.entrenar_juez(sc, sqlContext, juez_spam, humanos, ciborgs, bots)"
   ]
  },
  {
   "cell_type": "markdown",
   "metadata": {
    "collapsed": true
   },
   "source": [
    "Obteniendo las caracteristicas de los usuarios:"
   ]
  },
  {
   "cell_type": "code",
   "execution_count": 8,
   "metadata": {
    "collapsed": false,
    "scrolled": true
   },
   "outputs": [],
   "source": [
    "timelinesInput = '/home/jovyan/work/datos/datos/*'\n",
    "features = tools.timeline_features(juez_spam, tools.cargar_datos(sc, sqlContext, timelinesInput)).cache()\n",
    "features.first()"
   ]
  },
  {
   "cell_type": "markdown",
   "metadata": {},
   "source": [
    "En el siguiente bloque de codigo se realizará la evaluación de un usuario para categorizarlo:\n",
    "* Humano = 0\n",
    "* Bot = 1\n",
    "* Ciborg = 2"
   ]
  },
  {
   "cell_type": "code",
   "execution_count": 12,
   "metadata": {
    "collapsed": false
   },
   "outputs": [
    {
     "data": {
      "text/plain": [
       "[{'ano_registro': 2010,\n",
       "  'avg_diversidad': 0.9724475969798728,\n",
       "  'avg_diversidad_lex': 0.38475247659424383,\n",
       "  'avg_hashtags': 0.01706827309236948,\n",
       "  'avg_long_tweets': 74.6004016064257,\n",
       "  'avg_palabras': 12.89558232931727,\n",
       "  'avg_spam': 0.025100401606425703,\n",
       "  'con_descripcion': 1,\n",
       "  'con_geo_activo': 1,\n",
       "  'con_imagen_default': 0,\n",
       "  'con_imagen_fondo': 1,\n",
       "  'con_perfil_verificado': 0,\n",
       "  'createdAt': datetime.datetime(2016, 7, 27, 22, 40, 4, 214881),\n",
       "  'diversidad_url': 0,\n",
       "  'entropia': -0.15307207909875986,\n",
       "  'followers_ratio': 0.7169398907103826,\n",
       "  'hora_0': 0.04618473895582329,\n",
       "  'hora_1': 0.04618473895582329,\n",
       "  'hora_10': 0.001004016064257028,\n",
       "  'hora_11': 0.006024096385542169,\n",
       "  'hora_12': 0.0050200803212851405,\n",
       "  'hora_13': 0.029116465863453816,\n",
       "  'hora_14': 0.024096385542168676,\n",
       "  'hora_15': 0.04819277108433735,\n",
       "  'hora_16': 0.05321285140562249,\n",
       "  'hora_17': 0.05823293172690763,\n",
       "  'hora_18': 0.03413654618473896,\n",
       "  'hora_19': 0.03413654618473896,\n",
       "  'hora_2': 0.06224899598393574,\n",
       "  'hora_20': 0.03714859437751004,\n",
       "  'hora_21': 0.04116465863453815,\n",
       "  'hora_22': 0.03313253012048193,\n",
       "  'hora_23': 0.02710843373493976,\n",
       "  'hora_3': 0.15963855421686746,\n",
       "  'hora_4': 0.14859437751004015,\n",
       "  'hora_5': 0.05421686746987952,\n",
       "  'hora_6': 0.040160642570281124,\n",
       "  'hora_7': 0.010040160642570281,\n",
       "  'hora_8': 0.0,\n",
       "  'hora_9': 0.001004016064257028,\n",
       "  'mention_ratio': 0.4528112449799197,\n",
       "  'n_favoritos': 7290,\n",
       "  'n_listas': 35,\n",
       "  'n_tweets': 49568,\n",
       "  'nombre_usuario': u'sssslolita',\n",
       "  'prediccion': 2.0,\n",
       "  'reply_ratio': 0.2971887550200803,\n",
       "  'reputacion': 0.41756842775302355,\n",
       "  'safety_url': 0,\n",
       "  'url_ratio': 0.04216867469879518,\n",
       "  'user_id': 175144257,\n",
       "  'uso_domingo': 0.19377510040160642,\n",
       "  'uso_jueves': 0.10943775100401607,\n",
       "  'uso_lunes': 0.18473895582329317,\n",
       "  'uso_martes': 0.15461847389558234,\n",
       "  'uso_miercoles': 0.1897590361445783,\n",
       "  'uso_mobil': 0.9879518072289156,\n",
       "  'uso_sabado': 0.07730923694779117,\n",
       "  'uso_terceros': 0.012048192771084338,\n",
       "  'uso_viernes': 0.09036144578313253,\n",
       "  'uso_web': 0.0},\n",
       " {'ano_registro': 2010,\n",
       "  'avg_diversidad': 0.9664830667987706,\n",
       "  'avg_diversidad_lex': 0.3417174255046337,\n",
       "  'avg_hashtags': 0.40860215053763443,\n",
       "  'avg_long_tweets': 102.68817204301075,\n",
       "  'avg_palabras': 15.182795698924732,\n",
       "  'avg_spam': 0.05913978494623656,\n",
       "  'con_descripcion': 0,\n",
       "  'con_geo_activo': 0,\n",
       "  'con_imagen_default': 0,\n",
       "  'con_imagen_fondo': 1,\n",
       "  'con_perfil_verificado': 0,\n",
       "  'createdAt': datetime.datetime(2016, 7, 27, 22, 40, 17, 738703),\n",
       "  'diversidad_url': 0,\n",
       "  'entropia': -0.06598442366684976,\n",
       "  'followers_ratio': 0.6508620689655172,\n",
       "  'hora_0': 0.06989247311827956,\n",
       "  'hora_1': 0.03763440860215054,\n",
       "  'hora_10': 0.005376344086021506,\n",
       "  'hora_11': 0.03225806451612903,\n",
       "  'hora_12': 0.03763440860215054,\n",
       "  'hora_13': 0.06989247311827956,\n",
       "  'hora_14': 0.053763440860215055,\n",
       "  'hora_15': 0.06451612903225806,\n",
       "  'hora_16': 0.03225806451612903,\n",
       "  'hora_17': 0.03225806451612903,\n",
       "  'hora_18': 0.04838709677419355,\n",
       "  'hora_19': 0.053763440860215055,\n",
       "  'hora_2': 0.15053763440860216,\n",
       "  'hora_20': 0.04838709677419355,\n",
       "  'hora_21': 0.04838709677419355,\n",
       "  'hora_22': 0.053763440860215055,\n",
       "  'hora_23': 0.03763440860215054,\n",
       "  'hora_3': 0.05913978494623656,\n",
       "  'hora_4': 0.021505376344086023,\n",
       "  'hora_5': 0.021505376344086023,\n",
       "  'hora_6': 0.0,\n",
       "  'hora_7': 0.0,\n",
       "  'hora_8': 0.021505376344086023,\n",
       "  'hora_9': 0.0,\n",
       "  'mention_ratio': 1.1989247311827957,\n",
       "  'n_favoritos': 10,\n",
       "  'n_listas': 0,\n",
       "  'n_tweets': 195,\n",
       "  'nombre_usuario': u'cgassete',\n",
       "  'prediccion': 1.0,\n",
       "  'reply_ratio': 0.2956989247311828,\n",
       "  'reputacion': 0.39425587467362927,\n",
       "  'safety_url': 0,\n",
       "  'url_ratio': 0.22043010752688172,\n",
       "  'user_id': 175419596,\n",
       "  'uso_domingo': 0.1935483870967742,\n",
       "  'uso_jueves': 0.1881720430107527,\n",
       "  'uso_lunes': 0.20430107526881722,\n",
       "  'uso_martes': 0.0913978494623656,\n",
       "  'uso_miercoles': 0.13440860215053763,\n",
       "  'uso_mobil': 0.8118279569892473,\n",
       "  'uso_sabado': 0.0967741935483871,\n",
       "  'uso_terceros': 0.17204301075268819,\n",
       "  'uso_viernes': 0.0913978494623656,\n",
       "  'uso_web': 0.016129032258064516},\n",
       " {'ano_registro': 2010,\n",
       "  'avg_diversidad': 0.9622373191062173,\n",
       "  'avg_diversidad_lex': 0.29277918894989813,\n",
       "  'avg_hashtags': 0.7467467467467468,\n",
       "  'avg_long_tweets': 132.63763763763762,\n",
       "  'avg_palabras': 17.07007007007007,\n",
       "  'avg_spam': 0.04504504504504504,\n",
       "  'con_descripcion': 1,\n",
       "  'con_geo_activo': 1,\n",
       "  'con_imagen_default': 0,\n",
       "  'con_imagen_fondo': 1,\n",
       "  'con_perfil_verificado': 0,\n",
       "  'createdAt': datetime.datetime(2016, 7, 27, 22, 40, 19, 202734),\n",
       "  'diversidad_url': 0,\n",
       "  'entropia': -0.293880644914034,\n",
       "  'followers_ratio': 0.3301707779886148,\n",
       "  'hora_0': 0.12812812812812813,\n",
       "  'hora_1': 0.08408408408408409,\n",
       "  'hora_10': 0.03803803803803804,\n",
       "  'hora_11': 0.04504504504504504,\n",
       "  'hora_12': 0.08308308308308308,\n",
       "  'hora_13': 0.08708708708708708,\n",
       "  'hora_14': 0.021021021021021023,\n",
       "  'hora_15': 0.05405405405405406,\n",
       "  'hora_16': 0.06006006006006006,\n",
       "  'hora_17': 0.05305305305305305,\n",
       "  'hora_18': 0.05205205205205205,\n",
       "  'hora_19': 0.06806806806806807,\n",
       "  'hora_2': 0.03203203203203203,\n",
       "  'hora_20': 0.042042042042042045,\n",
       "  'hora_21': 0.04704704704704705,\n",
       "  'hora_22': 0.026026026026026026,\n",
       "  'hora_23': 0.04804804804804805,\n",
       "  'hora_3': 0.023023023023023025,\n",
       "  'hora_4': 0.007007007007007007,\n",
       "  'hora_5': 0.001001001001001001,\n",
       "  'hora_6': 0.0,\n",
       "  'hora_7': 0.0,\n",
       "  'hora_8': 0.0,\n",
       "  'hora_9': 0.0,\n",
       "  'mention_ratio': 1.91991991991992,\n",
       "  'n_favoritos': 721,\n",
       "  'n_listas': 0,\n",
       "  'n_tweets': 2066,\n",
       "  'nombre_usuario': u'elderioclaro',\n",
       "  'prediccion': 0.0,\n",
       "  'reply_ratio': 0.009009009009009009,\n",
       "  'reputacion': 0.24821683309557774,\n",
       "  'safety_url': 0,\n",
       "  'url_ratio': 0.26926926926926925,\n",
       "  'user_id': 174312811,\n",
       "  'uso_domingo': 0.0940940940940941,\n",
       "  'uso_jueves': 0.1971971971971972,\n",
       "  'uso_lunes': 0.05305305305305305,\n",
       "  'uso_martes': 0.22122122122122123,\n",
       "  'uso_miercoles': 0.12912912912912913,\n",
       "  'uso_mobil': 0.0,\n",
       "  'uso_sabado': 0.0940940940940941,\n",
       "  'uso_terceros': 0.0,\n",
       "  'uso_viernes': 0.21121121121121122,\n",
       "  'uso_web': 1.0}]"
      ]
     },
     "execution_count": 12,
     "metadata": {},
     "output_type": "execute_result"
    }
   ],
   "source": [
    "resultado = tools.evaluar(sc, sqlContext, juez_spam, juez_usuarios, timelinesInput)\n",
    "\n",
    "resultado.collect()"
   ]
  }
 ],
 "metadata": {
  "kernelspec": {
   "display_name": "Python 2",
   "language": "python",
   "name": "python2"
  },
  "language_info": {
   "codemirror_mode": {
    "name": "ipython",
    "version": 2
   },
   "file_extension": ".py",
   "mimetype": "text/x-python",
   "name": "python",
   "nbconvert_exporter": "python",
   "pygments_lexer": "ipython2",
   "version": "2.7.11"
  },
  "widgets": {
   "state": {},
   "version": "1.1.2"
  }
 },
 "nbformat": 4,
 "nbformat_minor": 0
}
